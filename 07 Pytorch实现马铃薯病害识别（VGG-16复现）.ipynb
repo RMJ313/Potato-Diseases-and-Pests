{
 "cells": [
  {
   "cell_type": "markdown",
   "id": "3785b9f5-659f-42be-ad45-d48411244b90",
   "metadata": {},
   "source": [
    "# 一、 前期准备"
   ]
  },
  {
   "cell_type": "markdown",
   "id": "8737a032-a7f0-4553-83cc-a9dfa0d1b266",
   "metadata": {},
   "source": [
    "## 1. 设置GPU"
   ]
  },
  {
   "cell_type": "code",
   "execution_count": 1,
   "id": "49599cf3-7b27-4f82-81a7-18d6b212cca7",
   "metadata": {},
   "outputs": [
    {
     "data": {
      "text/plain": [
       "device(type='cpu')"
      ]
     },
     "execution_count": 1,
     "metadata": {},
     "output_type": "execute_result"
    }
   ],
   "source": [
    "import torch\n",
    "import torch.nn as nn\n",
    "import torchvision.transforms as transforms\n",
    "import torchvision\n",
    "from torchvision import transforms, datasets\n",
    "import os,PIL,pathlib,warnings\n",
    "\n",
    "warnings.filterwarnings(\"ignore\")             #忽略警告信息\n",
    "\n",
    "device = torch.device(\"cuda\" if torch.cuda.is_available() else \"cpu\")\n",
    "device"
   ]
  },
  {
   "cell_type": "markdown",
   "id": "8ca09413-ba45-4c0c-ab82-755ae8171a14",
   "metadata": {},
   "source": [
    "## 2. 导入数据"
   ]
  },
  {
   "cell_type": "code",
   "execution_count": 2,
   "id": "694e956a-72af-4f72-a40f-38608a940cc4",
   "metadata": {},
   "outputs": [
    {
     "data": {
      "text/plain": [
       "['PotatoPlants', 'PotatoPlants', 'PotatoPlants']"
      ]
     },
     "execution_count": 2,
     "metadata": {},
     "output_type": "execute_result"
    }
   ],
   "source": [
    "import os,PIL,random,pathlib\n",
    "\n",
    "data_dir = '../data/PotatoPlants'\n",
    "data_dir = pathlib.Path(data_dir)\n",
    "\n",
    "data_paths  = list(data_dir.glob('*'))\n",
    "\n",
    "\n",
    "classeNames = [str(path).split(\"\\\\\")[2] for path in data_paths] # Windows\n",
    "#classeNames = [str(path).split(\"/\")[2] for path in data_paths] # Linux\n",
    "\n",
    "\n",
    "classeNames"
   ]
  },
  {
   "cell_type": "code",
   "execution_count": 3,
   "id": "dd6899a8-e873-4b22-bf47-8567fa3fbc3b",
   "metadata": {},
   "outputs": [
    {
     "data": {
      "text/plain": [
       "Dataset ImageFolder\n",
       "    Number of datapoints: 2087\n",
       "    Root location: ../data/PotatoPlants/\n",
       "    StandardTransform\n",
       "Transform: Compose(\n",
       "               Resize(size=[224, 224], interpolation=bilinear, max_size=None, antialias=True)\n",
       "               ToTensor()\n",
       "               Normalize(mean=[0.485, 0.456, 0.406], std=[0.229, 0.224, 0.225])\n",
       "           )"
      ]
     },
     "execution_count": 3,
     "metadata": {},
     "output_type": "execute_result"
    }
   ],
   "source": [
    "# 关于transforms.Compose的更多介绍可以参考：https://blog.csdn.net/qq_38251616/article/details/124878863\n",
    "train_transforms = transforms.Compose([\n",
    "    transforms.Resize([224, 224]),  # 将输入图片resize成统一尺寸\n",
    "    # transforms.RandomHorizontalFlip(), # 随机水平翻转\n",
    "    transforms.ToTensor(),          # 将PIL Image或numpy.ndarray转换为tensor，并归一化到[0,1]之间\n",
    "    transforms.Normalize(           # 标准化处理-->转换为标准正太分布（高斯分布），使模型更容易收敛\n",
    "        mean=[0.485, 0.456, 0.406], \n",
    "        std=[0.229, 0.224, 0.225])  # 其中 mean=[0.485,0.456,0.406]与std=[0.229,0.224,0.225] 从数据集中随机抽样计算得到的。\n",
    "])\n",
    "\n",
    "test_transform = transforms.Compose([\n",
    "    transforms.Resize([224, 224]),  # 将输入图片resize成统一尺寸\n",
    "    transforms.ToTensor(),          # 将PIL Image或numpy.ndarray转换为tensor，并归一化到[0,1]之间\n",
    "    transforms.Normalize(           # 标准化处理-->转换为标准正太分布（高斯分布），使模型更容易收敛\n",
    "        mean=[0.485, 0.456, 0.406], \n",
    "        std=[0.229, 0.224, 0.225])  # 其中 mean=[0.485,0.456,0.406]与std=[0.229,0.224,0.225] 从数据集中随机抽样计算得到的。\n",
    "])\n",
    "\n",
    "total_data = datasets.ImageFolder(\"../data/PotatoPlants/\",transform=train_transforms)\n",
    "total_data"
   ]
  },
  {
   "cell_type": "code",
   "execution_count": 4,
   "id": "6f55baf2-7aee-4595-b43c-ee9be3ef06f8",
   "metadata": {},
   "outputs": [
    {
     "data": {
      "text/plain": [
       "{'Early_blight': 0, 'Late_blight': 1, 'healthy': 2}"
      ]
     },
     "execution_count": 4,
     "metadata": {},
     "output_type": "execute_result"
    }
   ],
   "source": [
    "total_data.class_to_idx"
   ]
  },
  {
   "cell_type": "markdown",
   "id": "0c558335-4b31-48e0-a6db-21a8407f2553",
   "metadata": {},
   "source": [
    "## 3. 划分数据集"
   ]
  },
  {
   "cell_type": "code",
   "execution_count": 5,
   "id": "edd6b9b3-64c9-4e0f-a55d-4b65cd712c1e",
   "metadata": {},
   "outputs": [
    {
     "data": {
      "text/plain": [
       "(<torch.utils.data.dataset.Subset at 0x19f79ca2c50>,\n",
       " <torch.utils.data.dataset.Subset at 0x19f79c43650>)"
      ]
     },
     "execution_count": 5,
     "metadata": {},
     "output_type": "execute_result"
    }
   ],
   "source": [
    "train_size = int(0.8 * len(total_data))\n",
    "test_size  = len(total_data) - train_size\n",
    "train_dataset, test_dataset = torch.utils.data.random_split(total_data, [train_size, test_size])\n",
    "train_dataset, test_dataset"
   ]
  },
  {
   "cell_type": "code",
   "execution_count": 6,
   "id": "626c7b41-54e1-48a0-8d48-34022c3489e4",
   "metadata": {},
   "outputs": [],
   "source": [
    "batch_size = 32\n",
    "\n",
    "train_dl = torch.utils.data.DataLoader(train_dataset,\n",
    "                                           batch_size=batch_size,\n",
    "                                           shuffle=True,\n",
    "                                           num_workers=1)\n",
    "test_dl = torch.utils.data.DataLoader(test_dataset,\n",
    "                                          batch_size=batch_size,\n",
    "                                          shuffle=True,\n",
    "                                          num_workers=1)"
   ]
  },
  {
   "cell_type": "code",
   "execution_count": 7,
   "id": "bdf929e2-d76c-4311-85f7-a2b5d1a72dfa",
   "metadata": {},
   "outputs": [
    {
     "name": "stdout",
     "output_type": "stream",
     "text": [
      "Shape of X [N, C, H, W]:  torch.Size([32, 3, 224, 224])\n",
      "Shape of y:  torch.Size([32]) torch.int64\n"
     ]
    }
   ],
   "source": [
    "for X, y in test_dl:\n",
    "    print(\"Shape of X [N, C, H, W]: \", X.shape)        #N: Batch,     C: Channel,     H: Height,     W: Width\n",
    "    print(\"Shape of y: \", y.shape, y.dtype)         #[32, 3, 224, 224]中32对应N，batch_size = 32      3对应C，三通道，bgr   224，244对应H和W    transforms.Resize([224, 224]),  # 将输入图片resize成统一尺寸\n",
    "    break"
   ]
  },
  {
   "cell_type": "markdown",
   "id": "4fb58c51-d2f5-4ae0-b704-0d204408c22a",
   "metadata": {},
   "source": [
    "# 二、手动搭建VGG-16模型"
   ]
  },
  {
   "cell_type": "markdown",
   "id": "b5872489-bbe9-4492-a93b-9ae61101d4c9",
   "metadata": {},
   "source": [
    "## 1. 搭建模型"
   ]
  },
  {
   "cell_type": "code",
   "execution_count": 8,
   "id": "efd86a71-3cc2-4b01-a788-18df2b42cdd4",
   "metadata": {},
   "outputs": [
    {
     "name": "stdout",
     "output_type": "stream",
     "text": [
      "Using cpu device\n"
     ]
    },
    {
     "data": {
      "text/plain": [
       "vgg16(\n",
       "  (block1): Sequential(\n",
       "    (0): Conv2d(3, 64, kernel_size=(3, 3), stride=(1, 1), padding=(1, 1))\n",
       "    (1): ReLU()\n",
       "    (2): Conv2d(64, 64, kernel_size=(3, 3), stride=(1, 1), padding=(1, 1))\n",
       "    (3): ReLU()\n",
       "    (4): MaxPool2d(kernel_size=(2, 2), stride=(2, 2), padding=0, dilation=1, ceil_mode=False)\n",
       "  )\n",
       "  (block2): Sequential(\n",
       "    (0): Conv2d(64, 128, kernel_size=(3, 3), stride=(1, 1), padding=(1, 1))\n",
       "    (1): ReLU()\n",
       "    (2): Conv2d(128, 128, kernel_size=(3, 3), stride=(1, 1), padding=(1, 1))\n",
       "    (3): ReLU()\n",
       "    (4): MaxPool2d(kernel_size=(2, 2), stride=(2, 2), padding=0, dilation=1, ceil_mode=False)\n",
       "  )\n",
       "  (block3): Sequential(\n",
       "    (0): Conv2d(128, 256, kernel_size=(3, 3), stride=(1, 1), padding=(1, 1))\n",
       "    (1): ReLU()\n",
       "    (2): Conv2d(256, 256, kernel_size=(3, 3), stride=(1, 1), padding=(1, 1))\n",
       "    (3): ReLU()\n",
       "    (4): Conv2d(256, 256, kernel_size=(3, 3), stride=(1, 1), padding=(1, 1))\n",
       "    (5): ReLU()\n",
       "    (6): MaxPool2d(kernel_size=(2, 2), stride=(2, 2), padding=0, dilation=1, ceil_mode=False)\n",
       "  )\n",
       "  (block4): Sequential(\n",
       "    (0): Conv2d(256, 512, kernel_size=(3, 3), stride=(1, 1), padding=(1, 1))\n",
       "    (1): ReLU()\n",
       "    (2): Conv2d(512, 512, kernel_size=(3, 3), stride=(1, 1), padding=(1, 1))\n",
       "    (3): ReLU()\n",
       "    (4): Conv2d(512, 512, kernel_size=(3, 3), stride=(1, 1), padding=(1, 1))\n",
       "    (5): ReLU()\n",
       "    (6): MaxPool2d(kernel_size=(2, 2), stride=(2, 2), padding=0, dilation=1, ceil_mode=False)\n",
       "  )\n",
       "  (block5): Sequential(\n",
       "    (0): Conv2d(512, 512, kernel_size=(3, 3), stride=(1, 1), padding=(1, 1))\n",
       "    (1): ReLU()\n",
       "    (2): Conv2d(512, 512, kernel_size=(3, 3), stride=(1, 1), padding=(1, 1))\n",
       "    (3): ReLU()\n",
       "    (4): Conv2d(512, 512, kernel_size=(3, 3), stride=(1, 1), padding=(1, 1))\n",
       "    (5): ReLU()\n",
       "    (6): MaxPool2d(kernel_size=(2, 2), stride=(2, 2), padding=0, dilation=1, ceil_mode=False)\n",
       "  )\n",
       "  (classifier): Sequential(\n",
       "    (0): Linear(in_features=25088, out_features=4096, bias=True)\n",
       "    (1): ReLU()\n",
       "    (2): Linear(in_features=4096, out_features=4096, bias=True)\n",
       "    (3): ReLU()\n",
       "    (4): Linear(in_features=4096, out_features=3, bias=True)\n",
       "  )\n",
       ")"
      ]
     },
     "execution_count": 8,
     "metadata": {},
     "output_type": "execute_result"
    }
   ],
   "source": [
    "import torch.nn.functional as F\n",
    "\n",
    "class vgg16(nn.Module):\n",
    "    def __init__(self):\n",
    "        super(vgg16, self).__init__()\n",
    "        # 卷积块1\n",
    "        self.block1 = nn.Sequential(\n",
    "            nn.Conv2d(3, 64, kernel_size=(3, 3), stride=(1, 1), padding=(1, 1)),\n",
    "            nn.ReLU(),\n",
    "            nn.Conv2d(64, 64, kernel_size=(3, 3), stride=(1, 1), padding=(1, 1)),\n",
    "            nn.ReLU(),\n",
    "            nn.MaxPool2d(kernel_size=(2, 2), stride=(2, 2))\n",
    "        )\n",
    "        # 卷积块2\n",
    "        self.block2 = nn.Sequential(\n",
    "            nn.Conv2d(64, 128, kernel_size=(3, 3), stride=(1, 1), padding=(1, 1)),\n",
    "            nn.ReLU(),\n",
    "            nn.Conv2d(128, 128, kernel_size=(3, 3), stride=(1, 1), padding=(1, 1)),\n",
    "            nn.ReLU(),\n",
    "            nn.MaxPool2d(kernel_size=(2, 2), stride=(2, 2))\n",
    "        )\n",
    "        # 卷积块3\n",
    "        self.block3 = nn.Sequential(\n",
    "            nn.Conv2d(128, 256, kernel_size=(3, 3), stride=(1, 1), padding=(1, 1)),\n",
    "            nn.ReLU(),\n",
    "            nn.Conv2d(256, 256, kernel_size=(3, 3), stride=(1, 1), padding=(1, 1)),\n",
    "            nn.ReLU(),\n",
    "            nn.Conv2d(256, 256, kernel_size=(3, 3), stride=(1, 1), padding=(1, 1)),\n",
    "            nn.ReLU(),\n",
    "            nn.MaxPool2d(kernel_size=(2, 2), stride=(2, 2))\n",
    "        )\n",
    "        # 卷积块4\n",
    "        self.block4 = nn.Sequential(\n",
    "            nn.Conv2d(256, 512, kernel_size=(3, 3), stride=(1, 1), padding=(1, 1)),\n",
    "            nn.ReLU(),\n",
    "            nn.Conv2d(512, 512, kernel_size=(3, 3), stride=(1, 1), padding=(1, 1)),\n",
    "            nn.ReLU(),\n",
    "            nn.Conv2d(512, 512, kernel_size=(3, 3), stride=(1, 1), padding=(1, 1)),\n",
    "            nn.ReLU(),\n",
    "            nn.MaxPool2d(kernel_size=(2, 2), stride=(2, 2))\n",
    "        )\n",
    "        # 卷积块5\n",
    "        self.block5 = nn.Sequential(\n",
    "            nn.Conv2d(512, 512, kernel_size=(3, 3), stride=(1, 1), padding=(1, 1)),\n",
    "            nn.ReLU(),\n",
    "            nn.Conv2d(512, 512, kernel_size=(3, 3), stride=(1, 1), padding=(1, 1)),\n",
    "            nn.ReLU(),\n",
    "            nn.Conv2d(512, 512, kernel_size=(3, 3), stride=(1, 1), padding=(1, 1)),\n",
    "            nn.ReLU(),\n",
    "            nn.MaxPool2d(kernel_size=(2, 2), stride=(2, 2))\n",
    "        )\n",
    "      \n",
    "\n",
    "        # 全连接网络层，用于分类\n",
    "        self.classifier = nn.Sequential(\n",
    "            nn.Linear(in_features=512*7*7, out_features=4096),\n",
    "            nn.ReLU(),\n",
    "            nn.Linear(in_features=4096, out_features=4096),\n",
    "            nn.ReLU(),\n",
    "            nn.Linear(in_features=4096, out_features=3)\n",
    "        )\n",
    "\n",
    "    def forward(self, x):\n",
    "\n",
    "        x = self.block1(x)\n",
    "        x = self.block2(x)\n",
    "        x = self.block3(x)\n",
    "        x = self.block4(x)\n",
    "        x = self.block5(x)\n",
    "        x = torch.flatten(x, start_dim=1)\n",
    "        x = self.classifier(x)\n",
    "\n",
    "        return x\n",
    "\n",
    "device = \"cuda\" if torch.cuda.is_available() else \"cpu\"\n",
    "print(\"Using {} device\".format(device))\n",
    "  \n",
    "\n",
    "model = vgg16().to(device)\n",
    "model"
   ]
  },
  {
   "cell_type": "markdown",
   "id": "f9cc326e-33d1-43ae-8305-48ce2f310f9a",
   "metadata": {},
   "source": [
    "## 2. 查看模型详情"
   ]
  },
  {
   "cell_type": "code",
   "execution_count": 9,
   "id": "727bb728-e0ba-4173-8a2e-5a3b8880aa38",
   "metadata": {},
   "outputs": [],
   "source": [
    "# 统计模型参数量以及其他指标\n",
    "# conda install -c conda-forge torchinfo\n",
    "#import torchsummary as summary\n",
    "#summary.summary(model, (3, 224, 224))"
   ]
  },
  {
   "cell_type": "markdown",
   "id": "fc9c7714-6bea-4fbb-9b7d-4bfa5daf3067",
   "metadata": {},
   "source": [
    "# 三、 训练模型"
   ]
  },
  {
   "cell_type": "markdown",
   "id": "ff94334a-4413-4fb5-a0c3-8bc287a8c61d",
   "metadata": {},
   "source": [
    "# 1. 编写训练函数"
   ]
  },
  {
   "cell_type": "code",
   "execution_count": 10,
   "id": "202c5e2e-8fb6-49b0-a627-c12da531e30f",
   "metadata": {},
   "outputs": [],
   "source": [
    "# 训练循环\n",
    "def train(dataloader, model, loss_fn, optimizer):\n",
    "    size = len(dataloader.dataset)  # 训练集的大小\n",
    "    num_batches = len(dataloader)   # 批次数目, (size/batch_size，向上取整)\n",
    "\n",
    "    train_loss, train_acc = 0, 0  # 初始化训练损失和正确率\n",
    "  \n",
    "\n",
    "    for X, y in dataloader:  # 获取图片及其标签\n",
    "        X, y = X.to(device), y.to(device)\n",
    "      \n",
    "\n",
    "        # 计算预测误差\n",
    "        pred = model(X)          # 网络输出\n",
    "        loss = loss_fn(pred, y)  # 计算网络输出和真实值之间的差距，targets为真实值，计算二者差值即为损失\n",
    "      \n",
    "\n",
    "        # 反向传播\n",
    "        optimizer.zero_grad()  # grad属性归零\n",
    "        loss.backward()        # 反向传播\n",
    "        optimizer.step()       # 每一步自动更新\n",
    "      \n",
    "\n",
    "        # 记录acc与loss\n",
    "        train_acc  += (pred.argmax(1) == y).type(torch.float).sum().item()\n",
    "        train_loss += loss.item()\n",
    "          \n",
    "\n",
    "    train_acc  /= size\n",
    "    train_loss /= num_batches\n",
    "\n",
    "    return train_acc, train_loss"
   ]
  },
  {
   "cell_type": "markdown",
   "id": "f5ec6f8e-98f1-449a-b8a2-d007a28f8e2a",
   "metadata": {},
   "source": [
    "# 3. 编写测试函数"
   ]
  },
  {
   "cell_type": "code",
   "execution_count": 11,
   "id": "18e07c71-0ab8-471a-8f73-1124d9c3bc10",
   "metadata": {},
   "outputs": [],
   "source": [
    "def test (dataloader, model, loss_fn):\n",
    "    size        = len(dataloader.dataset)  # 测试集的大小\n",
    "    num_batches = len(dataloader)          # 批次数目, (size/batch_size，向上取整)\n",
    "    test_loss, test_acc = 0, 0\n",
    "  \n",
    "\n",
    "    # 当不进行训练时，停止梯度更新，节省计算内存消耗\n",
    "    with torch.no_grad():\n",
    "        for imgs, target in dataloader:\n",
    "            imgs, target = imgs.to(device), target.to(device)\n",
    "          \n",
    "\n",
    "            # 计算loss\n",
    "            target_pred = model(imgs)\n",
    "            loss        = loss_fn(target_pred, target)\n",
    "          \n",
    "\n",
    "            test_loss += loss.item()\n",
    "            test_acc  += (target_pred.argmax(1) == target).type(torch.float).sum().item()\n",
    "\n",
    "    test_acc  /= size\n",
    "    test_loss /= num_batches\n",
    "\n",
    "    return test_acc, test_loss"
   ]
  },
  {
   "cell_type": "markdown",
   "id": "4e416daa-3a7f-4c93-91ee-baf010d48d6d",
   "metadata": {},
   "source": [
    "## 4. 正式训练"
   ]
  },
  {
   "cell_type": "code",
   "execution_count": null,
   "id": "39777066-6f37-41b9-8735-f653fccf4a49",
   "metadata": {},
   "outputs": [],
   "source": [
    "import copy\n",
    "\n",
    "optimizer  = torch.optim.Adam(model.parameters(), lr= 1e-4)\n",
    "loss_fn    = nn.CrossEntropyLoss() # 创建损失函数\n",
    "\n",
    "epochs     = 40\n",
    "\n",
    "train_loss = []\n",
    "train_acc  = []\n",
    "test_loss  = []\n",
    "test_acc   = []\n",
    "\n",
    "best_acc = 0    # 设置一个最佳准确率，作为最佳模型的判别指标\n",
    "\n",
    "for epoch in range(epochs):\n",
    "  \n",
    "\n",
    "    model.train()\n",
    "    epoch_train_acc, epoch_train_loss = train(train_dl, model, loss_fn, optimizer)\n",
    "  \n",
    "\n",
    "    model.eval()\n",
    "    epoch_test_acc, epoch_test_loss = test(test_dl, model, loss_fn)\n",
    "  \n",
    "\n",
    "    # 保存最佳模型到 best_model\n",
    "    if epoch_test_acc > best_acc:\n",
    "        best_acc   = epoch_test_acc\n",
    "        best_model = copy.deepcopy(model)\n",
    "  \n",
    "\n",
    "    train_acc.append(epoch_train_acc)\n",
    "    train_loss.append(epoch_train_loss)\n",
    "    test_acc.append(epoch_test_acc)\n",
    "    test_loss.append(epoch_test_loss)\n",
    "  \n",
    "\n",
    "    # 获取当前的学习率\n",
    "    lr = optimizer.state_dict()['param_groups'][0]['lr']\n",
    "  \n",
    "\n",
    "    template = ('Epoch:{:2d}, Train_acc:{:.1f}%, Train_loss:{:.3f}, Test_acc:{:.1f}%, Test_loss:{:.3f}, Lr:{:.2E}')\n",
    "    print(template.format(epoch+1, epoch_train_acc*100, epoch_train_loss, \n",
    "                          epoch_test_acc*100, epoch_test_loss, lr))\n",
    "  \n",
    "\n",
    "# 保存最佳模型到文件中\n",
    "PATH = '../tmp/best_model.pth'  # 保存的参数文件名\n",
    "torch.save(model.state_dict(), PATH)\n",
    "\n",
    "print('Done')"
   ]
  },
  {
   "cell_type": "markdown",
   "id": "bc30e60d-26cc-4206-a229-2d19c4288d59",
   "metadata": {},
   "source": [
    "# 四、 结果可视化"
   ]
  },
  {
   "cell_type": "markdown",
   "id": "1870f1d2-134d-40b1-85ca-2eb27f10a65a",
   "metadata": {},
   "source": [
    "## 1. Loss与Accuracy图"
   ]
  },
  {
   "cell_type": "code",
   "execution_count": null,
   "id": "4fe46cc3-df89-4d4a-b901-6fa20d4f2b8c",
   "metadata": {},
   "outputs": [],
   "source": [
    "import matplotlib.pyplot as plt\n",
    "#隐藏警告\n",
    "import warnings\n",
    "warnings.filterwarnings(\"ignore\")               #忽略警告信息\n",
    "plt.rcParams['font.sans-serif']    = ['SimHei'] # 用来正常显示中文标签\n",
    "plt.rcParams['axes.unicode_minus'] = False      # 用来正常显示负号\n",
    "plt.rcParams['figure.dpi']         = 100        #分辨率\n",
    "\n",
    "from datetime import datetime\n",
    "current_time = datetime.now() # 获取当前时间\n",
    "\n",
    "epochs_range = range(epochs)\n",
    "\n",
    "plt.figure(figsize=(12, 3))\n",
    "plt.subplot(1, 2, 1)\n",
    "\n",
    "plt.plot(epochs_range, train_acc, label='Training Accuracy')\n",
    "plt.plot(epochs_range, test_acc, label='Test Accuracy')\n",
    "plt.legend(loc='lower right')\n",
    "plt.title('Training and Validation Accuracy')\n",
    "plt.xlabel(current_time) # 打卡请带上时间戳，否则代码截图无效\n",
    "\n",
    "plt.subplot(1, 2, 2)\n",
    "plt.plot(epochs_range, train_loss, label='Training Loss')\n",
    "plt.plot(epochs_range, test_loss, label='Test Loss')\n",
    "plt.legend(loc='upper right')\n",
    "plt.title('Training and Validation Loss')\n",
    "plt.show()"
   ]
  },
  {
   "cell_type": "markdown",
   "id": "6485ecb9-80a4-4227-9540-5be9e07541c6",
   "metadata": {},
   "source": [
    "## 2. 指定图片进行预测"
   ]
  },
  {
   "cell_type": "code",
   "execution_count": null,
   "id": "b0241d12-68dc-4087-af2c-90cfee5e519d",
   "metadata": {},
   "outputs": [],
   "source": [
    "from PIL import Image \n",
    "\n",
    "classes = list(total_data.class_to_idx)\n",
    "\n",
    "def predict_one_image(image_path, model, transform, classes):\n",
    "  \n",
    "\n",
    "    test_img = Image.open(image_path).convert('RGB')\n",
    "    plt.imshow(test_img)  # 展示预测的图片\n",
    "\n",
    "    test_img = transform(test_img)\n",
    "    img = test_img.to(device).unsqueeze(0)\n",
    "  \n",
    "\n",
    "    model.eval()\n",
    "    output = model(img)\n",
    "\n",
    "    _,pred = torch.max(output,1)\n",
    "    pred_class = classes[pred]\n",
    "    print(f'预测结果是：{pred_class}')"
   ]
  },
  {
   "cell_type": "code",
   "execution_count": null,
   "id": "7b856a03-787f-4931-b65c-5e77a6cd780e",
   "metadata": {},
   "outputs": [],
   "source": [
    "# 预测训练集中的某张照片\n",
    "predict_one_image(image_path='../data/PotatoPlants/Early_blight/1.JPG', \n",
    "                  model=model, \n",
    "                  transform=train_transforms, \n",
    "                  classes=classes)"
   ]
  },
  {
   "cell_type": "markdown",
   "id": "aef14e07-1955-4d02-abc4-fee9de35ae2d",
   "metadata": {},
   "source": [
    "## 3. 模型评估"
   ]
  },
  {
   "cell_type": "code",
   "execution_count": null,
   "id": "4c53a220-22a9-4fc0-b288-eae52d5ed45a",
   "metadata": {},
   "outputs": [],
   "source": [
    "best_model.eval()\n",
    "epoch_test_acc, epoch_test_loss = test(test_dl, best_model, loss_fn)"
   ]
  },
  {
   "cell_type": "code",
   "execution_count": null,
   "id": "df8cb6b9-543b-4184-82fc-21c3f42afd89",
   "metadata": {},
   "outputs": [],
   "source": [
    "epoch_test_acc, epoch_test_loss"
   ]
  },
  {
   "cell_type": "code",
   "execution_count": null,
   "id": "cc35a425-874e-4b95-a98c-786c9cb9499e",
   "metadata": {},
   "outputs": [],
   "source": []
  },
  {
   "cell_type": "code",
   "execution_count": null,
   "id": "e43d3c4f-9b88-4e41-af39-87099da1d0c0",
   "metadata": {},
   "outputs": [],
   "source": []
  },
  {
   "cell_type": "code",
   "execution_count": null,
   "id": "d96dd9b9-dd47-4f85-8dd6-1430b421affc",
   "metadata": {},
   "outputs": [],
   "source": []
  },
  {
   "cell_type": "code",
   "execution_count": null,
   "id": "6b2db026-8893-4fbc-acf2-d3bd0abe8297",
   "metadata": {},
   "outputs": [],
   "source": []
  },
  {
   "cell_type": "code",
   "execution_count": null,
   "id": "000bb3d0-9913-4cac-ba37-ab6ebac3cdf9",
   "metadata": {},
   "outputs": [],
   "source": []
  },
  {
   "cell_type": "code",
   "execution_count": null,
   "id": "e5460229-bfdc-43be-afd9-6a89a94149ba",
   "metadata": {},
   "outputs": [],
   "source": []
  }
 ],
 "metadata": {
  "kernelspec": {
   "display_name": "Python 3 (ipykernel)",
   "language": "python",
   "name": "python3"
  },
  "language_info": {
   "codemirror_mode": {
    "name": "ipython",
    "version": 3
   },
   "file_extension": ".py",
   "mimetype": "text/x-python",
   "name": "python",
   "nbconvert_exporter": "python",
   "pygments_lexer": "ipython3",
   "version": "3.11.7"
  }
 },
 "nbformat": 4,
 "nbformat_minor": 5
}
